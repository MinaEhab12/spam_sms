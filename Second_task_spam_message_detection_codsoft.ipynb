{
 "cells": [
  {
   "cell_type": "code",
   "execution_count": 52,
   "id": "cfc9b3f9",
   "metadata": {},
   "outputs": [
    {
     "name": "stderr",
     "output_type": "stream",
     "text": [
      "[nltk_data] Downloading package stopwords to\n",
      "[nltk_data]     C:\\Users\\Infotech\\AppData\\Roaming\\nltk_data...\n",
      "[nltk_data]   Package stopwords is already up-to-date!\n"
     ]
    }
   ],
   "source": [
    "import pandas as pd\n",
    "import seaborn as sns\n",
    "import warnings \n",
    "warnings.filterwarnings('ignore')\n",
    "import re \n",
    "import nltk\n",
    "nltk.download('stopwords')\n",
    "from nltk.corpus import stopwords \n",
    "from nltk.stem.porter import PorterStemmer\n",
    "import matplotlib.pyplot as plt\n"
   ]
  },
  {
   "cell_type": "code",
   "execution_count": 53,
   "id": "511dd336",
   "metadata": {},
   "outputs": [
    {
     "data": {
      "text/html": [
       "<style type=\"text/css\">\n",
       "</style>\n",
       "<table id=\"T_1ae64\">\n",
       "  <thead>\n",
       "    <tr>\n",
       "      <th class=\"blank level0\" >&nbsp;</th>\n",
       "      <th id=\"T_1ae64_level0_col0\" class=\"col_heading level0 col0\" >v1</th>\n",
       "      <th id=\"T_1ae64_level0_col1\" class=\"col_heading level0 col1\" >v2</th>\n",
       "      <th id=\"T_1ae64_level0_col2\" class=\"col_heading level0 col2\" >Unnamed: 2</th>\n",
       "      <th id=\"T_1ae64_level0_col3\" class=\"col_heading level0 col3\" >Unnamed: 3</th>\n",
       "      <th id=\"T_1ae64_level0_col4\" class=\"col_heading level0 col4\" >Unnamed: 4</th>\n",
       "    </tr>\n",
       "  </thead>\n",
       "  <tbody>\n",
       "    <tr>\n",
       "      <th id=\"T_1ae64_level0_row0\" class=\"row_heading level0 row0\" >0</th>\n",
       "      <td id=\"T_1ae64_row0_col0\" class=\"data row0 col0\" >ham</td>\n",
       "      <td id=\"T_1ae64_row0_col1\" class=\"data row0 col1\" >Go until jurong point, crazy.. Available only in bugis n great world la e buffet... Cine there got amore wat...</td>\n",
       "      <td id=\"T_1ae64_row0_col2\" class=\"data row0 col2\" >nan</td>\n",
       "      <td id=\"T_1ae64_row0_col3\" class=\"data row0 col3\" >nan</td>\n",
       "      <td id=\"T_1ae64_row0_col4\" class=\"data row0 col4\" >nan</td>\n",
       "    </tr>\n",
       "    <tr>\n",
       "      <th id=\"T_1ae64_level0_row1\" class=\"row_heading level0 row1\" >1</th>\n",
       "      <td id=\"T_1ae64_row1_col0\" class=\"data row1 col0\" >ham</td>\n",
       "      <td id=\"T_1ae64_row1_col1\" class=\"data row1 col1\" >Ok lar... Joking wif u oni...</td>\n",
       "      <td id=\"T_1ae64_row1_col2\" class=\"data row1 col2\" >nan</td>\n",
       "      <td id=\"T_1ae64_row1_col3\" class=\"data row1 col3\" >nan</td>\n",
       "      <td id=\"T_1ae64_row1_col4\" class=\"data row1 col4\" >nan</td>\n",
       "    </tr>\n",
       "    <tr>\n",
       "      <th id=\"T_1ae64_level0_row2\" class=\"row_heading level0 row2\" >2</th>\n",
       "      <td id=\"T_1ae64_row2_col0\" class=\"data row2 col0\" >spam</td>\n",
       "      <td id=\"T_1ae64_row2_col1\" class=\"data row2 col1\" >Free entry in 2 a wkly comp to win FA Cup final tkts 21st May 2005. Text FA to 87121 to receive entry question(std txt rate)T&C's apply 08452810075over18's</td>\n",
       "      <td id=\"T_1ae64_row2_col2\" class=\"data row2 col2\" >nan</td>\n",
       "      <td id=\"T_1ae64_row2_col3\" class=\"data row2 col3\" >nan</td>\n",
       "      <td id=\"T_1ae64_row2_col4\" class=\"data row2 col4\" >nan</td>\n",
       "    </tr>\n",
       "    <tr>\n",
       "      <th id=\"T_1ae64_level0_row3\" class=\"row_heading level0 row3\" >3</th>\n",
       "      <td id=\"T_1ae64_row3_col0\" class=\"data row3 col0\" >ham</td>\n",
       "      <td id=\"T_1ae64_row3_col1\" class=\"data row3 col1\" >U dun say so early hor... U c already then say...</td>\n",
       "      <td id=\"T_1ae64_row3_col2\" class=\"data row3 col2\" >nan</td>\n",
       "      <td id=\"T_1ae64_row3_col3\" class=\"data row3 col3\" >nan</td>\n",
       "      <td id=\"T_1ae64_row3_col4\" class=\"data row3 col4\" >nan</td>\n",
       "    </tr>\n",
       "    <tr>\n",
       "      <th id=\"T_1ae64_level0_row4\" class=\"row_heading level0 row4\" >4</th>\n",
       "      <td id=\"T_1ae64_row4_col0\" class=\"data row4 col0\" >ham</td>\n",
       "      <td id=\"T_1ae64_row4_col1\" class=\"data row4 col1\" >Nah I don't think he goes to usf, he lives around here though</td>\n",
       "      <td id=\"T_1ae64_row4_col2\" class=\"data row4 col2\" >nan</td>\n",
       "      <td id=\"T_1ae64_row4_col3\" class=\"data row4 col3\" >nan</td>\n",
       "      <td id=\"T_1ae64_row4_col4\" class=\"data row4 col4\" >nan</td>\n",
       "    </tr>\n",
       "    <tr>\n",
       "      <th id=\"T_1ae64_level0_row5\" class=\"row_heading level0 row5\" >5</th>\n",
       "      <td id=\"T_1ae64_row5_col0\" class=\"data row5 col0\" >spam</td>\n",
       "      <td id=\"T_1ae64_row5_col1\" class=\"data row5 col1\" >FreeMsg Hey there darling it's been 3 week's now and no word back! I'd like some fun you up for it still? Tb ok! XxX std chgs to send, å£1.50 to rcv</td>\n",
       "      <td id=\"T_1ae64_row5_col2\" class=\"data row5 col2\" >nan</td>\n",
       "      <td id=\"T_1ae64_row5_col3\" class=\"data row5 col3\" >nan</td>\n",
       "      <td id=\"T_1ae64_row5_col4\" class=\"data row5 col4\" >nan</td>\n",
       "    </tr>\n",
       "    <tr>\n",
       "      <th id=\"T_1ae64_level0_row6\" class=\"row_heading level0 row6\" >6</th>\n",
       "      <td id=\"T_1ae64_row6_col0\" class=\"data row6 col0\" >ham</td>\n",
       "      <td id=\"T_1ae64_row6_col1\" class=\"data row6 col1\" >Even my brother is not like to speak with me. They treat me like aids patent.</td>\n",
       "      <td id=\"T_1ae64_row6_col2\" class=\"data row6 col2\" >nan</td>\n",
       "      <td id=\"T_1ae64_row6_col3\" class=\"data row6 col3\" >nan</td>\n",
       "      <td id=\"T_1ae64_row6_col4\" class=\"data row6 col4\" >nan</td>\n",
       "    </tr>\n",
       "    <tr>\n",
       "      <th id=\"T_1ae64_level0_row7\" class=\"row_heading level0 row7\" >7</th>\n",
       "      <td id=\"T_1ae64_row7_col0\" class=\"data row7 col0\" >ham</td>\n",
       "      <td id=\"T_1ae64_row7_col1\" class=\"data row7 col1\" >As per your request 'Melle Melle (Oru Minnaminunginte Nurungu Vettam)' has been set as your callertune for all Callers. Press *9 to copy your friends Callertune</td>\n",
       "      <td id=\"T_1ae64_row7_col2\" class=\"data row7 col2\" >nan</td>\n",
       "      <td id=\"T_1ae64_row7_col3\" class=\"data row7 col3\" >nan</td>\n",
       "      <td id=\"T_1ae64_row7_col4\" class=\"data row7 col4\" >nan</td>\n",
       "    </tr>\n",
       "    <tr>\n",
       "      <th id=\"T_1ae64_level0_row8\" class=\"row_heading level0 row8\" >8</th>\n",
       "      <td id=\"T_1ae64_row8_col0\" class=\"data row8 col0\" >spam</td>\n",
       "      <td id=\"T_1ae64_row8_col1\" class=\"data row8 col1\" >WINNER!! As a valued network customer you have been selected to receivea å£900 prize reward! To claim call 09061701461. Claim code KL341. Valid 12 hours only.</td>\n",
       "      <td id=\"T_1ae64_row8_col2\" class=\"data row8 col2\" >nan</td>\n",
       "      <td id=\"T_1ae64_row8_col3\" class=\"data row8 col3\" >nan</td>\n",
       "      <td id=\"T_1ae64_row8_col4\" class=\"data row8 col4\" >nan</td>\n",
       "    </tr>\n",
       "    <tr>\n",
       "      <th id=\"T_1ae64_level0_row9\" class=\"row_heading level0 row9\" >9</th>\n",
       "      <td id=\"T_1ae64_row9_col0\" class=\"data row9 col0\" >spam</td>\n",
       "      <td id=\"T_1ae64_row9_col1\" class=\"data row9 col1\" >Had your mobile 11 months or more? U R entitled to Update to the latest colour mobiles with camera for Free! Call The Mobile Update Co FREE on 08002986030</td>\n",
       "      <td id=\"T_1ae64_row9_col2\" class=\"data row9 col2\" >nan</td>\n",
       "      <td id=\"T_1ae64_row9_col3\" class=\"data row9 col3\" >nan</td>\n",
       "      <td id=\"T_1ae64_row9_col4\" class=\"data row9 col4\" >nan</td>\n",
       "    </tr>\n",
       "    <tr>\n",
       "      <th id=\"T_1ae64_level0_row10\" class=\"row_heading level0 row10\" >10</th>\n",
       "      <td id=\"T_1ae64_row10_col0\" class=\"data row10 col0\" >ham</td>\n",
       "      <td id=\"T_1ae64_row10_col1\" class=\"data row10 col1\" >I'm gonna be home soon and i don't want to talk about this stuff anymore tonight, k? I've cried enough today.</td>\n",
       "      <td id=\"T_1ae64_row10_col2\" class=\"data row10 col2\" >nan</td>\n",
       "      <td id=\"T_1ae64_row10_col3\" class=\"data row10 col3\" >nan</td>\n",
       "      <td id=\"T_1ae64_row10_col4\" class=\"data row10 col4\" >nan</td>\n",
       "    </tr>\n",
       "    <tr>\n",
       "      <th id=\"T_1ae64_level0_row11\" class=\"row_heading level0 row11\" >11</th>\n",
       "      <td id=\"T_1ae64_row11_col0\" class=\"data row11 col0\" >spam</td>\n",
       "      <td id=\"T_1ae64_row11_col1\" class=\"data row11 col1\" >SIX chances to win CASH! From 100 to 20,000 pounds txt> CSH11 and send to 87575. Cost 150p/day, 6days, 16+ TsandCs apply Reply HL 4 info</td>\n",
       "      <td id=\"T_1ae64_row11_col2\" class=\"data row11 col2\" >nan</td>\n",
       "      <td id=\"T_1ae64_row11_col3\" class=\"data row11 col3\" >nan</td>\n",
       "      <td id=\"T_1ae64_row11_col4\" class=\"data row11 col4\" >nan</td>\n",
       "    </tr>\n",
       "    <tr>\n",
       "      <th id=\"T_1ae64_level0_row12\" class=\"row_heading level0 row12\" >12</th>\n",
       "      <td id=\"T_1ae64_row12_col0\" class=\"data row12 col0\" >spam</td>\n",
       "      <td id=\"T_1ae64_row12_col1\" class=\"data row12 col1\" >URGENT! You have won a 1 week FREE membership in our å£100,000 Prize Jackpot! Txt the word: CLAIM to No: 81010 T&C www.dbuk.net LCCLTD POBOX 4403LDNW1A7RW18</td>\n",
       "      <td id=\"T_1ae64_row12_col2\" class=\"data row12 col2\" >nan</td>\n",
       "      <td id=\"T_1ae64_row12_col3\" class=\"data row12 col3\" >nan</td>\n",
       "      <td id=\"T_1ae64_row12_col4\" class=\"data row12 col4\" >nan</td>\n",
       "    </tr>\n",
       "    <tr>\n",
       "      <th id=\"T_1ae64_level0_row13\" class=\"row_heading level0 row13\" >13</th>\n",
       "      <td id=\"T_1ae64_row13_col0\" class=\"data row13 col0\" >ham</td>\n",
       "      <td id=\"T_1ae64_row13_col1\" class=\"data row13 col1\" >I've been searching for the right words to thank you for this breather. I promise i wont take your help for granted and will fulfil my promise. You have been wonderful and a blessing at all times.</td>\n",
       "      <td id=\"T_1ae64_row13_col2\" class=\"data row13 col2\" >nan</td>\n",
       "      <td id=\"T_1ae64_row13_col3\" class=\"data row13 col3\" >nan</td>\n",
       "      <td id=\"T_1ae64_row13_col4\" class=\"data row13 col4\" >nan</td>\n",
       "    </tr>\n",
       "    <tr>\n",
       "      <th id=\"T_1ae64_level0_row14\" class=\"row_heading level0 row14\" >14</th>\n",
       "      <td id=\"T_1ae64_row14_col0\" class=\"data row14 col0\" >ham</td>\n",
       "      <td id=\"T_1ae64_row14_col1\" class=\"data row14 col1\" >I HAVE A DATE ON SUNDAY WITH WILL!!</td>\n",
       "      <td id=\"T_1ae64_row14_col2\" class=\"data row14 col2\" >nan</td>\n",
       "      <td id=\"T_1ae64_row14_col3\" class=\"data row14 col3\" >nan</td>\n",
       "      <td id=\"T_1ae64_row14_col4\" class=\"data row14 col4\" >nan</td>\n",
       "    </tr>\n",
       "  </tbody>\n",
       "</table>\n"
      ],
      "text/plain": [
       "<pandas.io.formats.style.Styler at 0x1d11ee37eb0>"
      ]
     },
     "execution_count": 53,
     "metadata": {},
     "output_type": "execute_result"
    }
   ],
   "source": [
    "data=pd.read_csv('D:\\spam.csv',encoding='latin-1')\n",
    "data.head(15).style.background_gradient(cmap='Reds')"
   ]
  },
  {
   "cell_type": "code",
   "execution_count": 54,
   "id": "f57a3a4b",
   "metadata": {},
   "outputs": [
    {
     "data": {
      "text/plain": [
       "v1               0\n",
       "v2               0\n",
       "Unnamed: 2    5522\n",
       "Unnamed: 3    5560\n",
       "Unnamed: 4    5566\n",
       "dtype: int64"
      ]
     },
     "execution_count": 54,
     "metadata": {},
     "output_type": "execute_result"
    }
   ],
   "source": [
    "data.isnull().sum()"
   ]
  },
  {
   "cell_type": "code",
   "execution_count": 55,
   "id": "c8279d30",
   "metadata": {},
   "outputs": [],
   "source": [
    "cl=['Unnamed: 2' ,'Unnamed: 3','Unnamed: 4']\n",
    "data.drop(columns=cl,inplace=True)"
   ]
  },
  {
   "cell_type": "code",
   "execution_count": 56,
   "id": "d8734a17",
   "metadata": {},
   "outputs": [
    {
     "data": {
      "text/html": [
       "<style type=\"text/css\">\n",
       "</style>\n",
       "<table id=\"T_52a03\">\n",
       "  <thead>\n",
       "    <tr>\n",
       "      <th class=\"blank level0\" >&nbsp;</th>\n",
       "      <th id=\"T_52a03_level0_col0\" class=\"col_heading level0 col0\" >v1</th>\n",
       "      <th id=\"T_52a03_level0_col1\" class=\"col_heading level0 col1\" >v2</th>\n",
       "    </tr>\n",
       "  </thead>\n",
       "  <tbody>\n",
       "    <tr>\n",
       "      <th id=\"T_52a03_level0_row0\" class=\"row_heading level0 row0\" >0</th>\n",
       "      <td id=\"T_52a03_row0_col0\" class=\"data row0 col0\" >ham</td>\n",
       "      <td id=\"T_52a03_row0_col1\" class=\"data row0 col1\" >Go until jurong point, crazy.. Available only in bugis n great world la e buffet... Cine there got amore wat...</td>\n",
       "    </tr>\n",
       "    <tr>\n",
       "      <th id=\"T_52a03_level0_row1\" class=\"row_heading level0 row1\" >1</th>\n",
       "      <td id=\"T_52a03_row1_col0\" class=\"data row1 col0\" >ham</td>\n",
       "      <td id=\"T_52a03_row1_col1\" class=\"data row1 col1\" >Ok lar... Joking wif u oni...</td>\n",
       "    </tr>\n",
       "    <tr>\n",
       "      <th id=\"T_52a03_level0_row2\" class=\"row_heading level0 row2\" >2</th>\n",
       "      <td id=\"T_52a03_row2_col0\" class=\"data row2 col0\" >spam</td>\n",
       "      <td id=\"T_52a03_row2_col1\" class=\"data row2 col1\" >Free entry in 2 a wkly comp to win FA Cup final tkts 21st May 2005. Text FA to 87121 to receive entry question(std txt rate)T&C's apply 08452810075over18's</td>\n",
       "    </tr>\n",
       "    <tr>\n",
       "      <th id=\"T_52a03_level0_row3\" class=\"row_heading level0 row3\" >3</th>\n",
       "      <td id=\"T_52a03_row3_col0\" class=\"data row3 col0\" >ham</td>\n",
       "      <td id=\"T_52a03_row3_col1\" class=\"data row3 col1\" >U dun say so early hor... U c already then say...</td>\n",
       "    </tr>\n",
       "    <tr>\n",
       "      <th id=\"T_52a03_level0_row4\" class=\"row_heading level0 row4\" >4</th>\n",
       "      <td id=\"T_52a03_row4_col0\" class=\"data row4 col0\" >ham</td>\n",
       "      <td id=\"T_52a03_row4_col1\" class=\"data row4 col1\" >Nah I don't think he goes to usf, he lives around here though</td>\n",
       "    </tr>\n",
       "    <tr>\n",
       "      <th id=\"T_52a03_level0_row5\" class=\"row_heading level0 row5\" >5</th>\n",
       "      <td id=\"T_52a03_row5_col0\" class=\"data row5 col0\" >spam</td>\n",
       "      <td id=\"T_52a03_row5_col1\" class=\"data row5 col1\" >FreeMsg Hey there darling it's been 3 week's now and no word back! I'd like some fun you up for it still? Tb ok! XxX std chgs to send, å£1.50 to rcv</td>\n",
       "    </tr>\n",
       "    <tr>\n",
       "      <th id=\"T_52a03_level0_row6\" class=\"row_heading level0 row6\" >6</th>\n",
       "      <td id=\"T_52a03_row6_col0\" class=\"data row6 col0\" >ham</td>\n",
       "      <td id=\"T_52a03_row6_col1\" class=\"data row6 col1\" >Even my brother is not like to speak with me. They treat me like aids patent.</td>\n",
       "    </tr>\n",
       "    <tr>\n",
       "      <th id=\"T_52a03_level0_row7\" class=\"row_heading level0 row7\" >7</th>\n",
       "      <td id=\"T_52a03_row7_col0\" class=\"data row7 col0\" >ham</td>\n",
       "      <td id=\"T_52a03_row7_col1\" class=\"data row7 col1\" >As per your request 'Melle Melle (Oru Minnaminunginte Nurungu Vettam)' has been set as your callertune for all Callers. Press *9 to copy your friends Callertune</td>\n",
       "    </tr>\n",
       "    <tr>\n",
       "      <th id=\"T_52a03_level0_row8\" class=\"row_heading level0 row8\" >8</th>\n",
       "      <td id=\"T_52a03_row8_col0\" class=\"data row8 col0\" >spam</td>\n",
       "      <td id=\"T_52a03_row8_col1\" class=\"data row8 col1\" >WINNER!! As a valued network customer you have been selected to receivea å£900 prize reward! To claim call 09061701461. Claim code KL341. Valid 12 hours only.</td>\n",
       "    </tr>\n",
       "    <tr>\n",
       "      <th id=\"T_52a03_level0_row9\" class=\"row_heading level0 row9\" >9</th>\n",
       "      <td id=\"T_52a03_row9_col0\" class=\"data row9 col0\" >spam</td>\n",
       "      <td id=\"T_52a03_row9_col1\" class=\"data row9 col1\" >Had your mobile 11 months or more? U R entitled to Update to the latest colour mobiles with camera for Free! Call The Mobile Update Co FREE on 08002986030</td>\n",
       "    </tr>\n",
       "  </tbody>\n",
       "</table>\n"
      ],
      "text/plain": [
       "<pandas.io.formats.style.Styler at 0x1d12cc431c0>"
      ]
     },
     "execution_count": 56,
     "metadata": {},
     "output_type": "execute_result"
    }
   ],
   "source": [
    "data.head(10).style.background_gradient(cmap='Reds')"
   ]
  },
  {
   "cell_type": "code",
   "execution_count": 57,
   "id": "97869586",
   "metadata": {},
   "outputs": [],
   "source": [
    "new_names={\"v1\":\"category\",\"v2\":\"message\"}\n",
    "data.rename(columns=new_names,inplace=True)\n"
   ]
  },
  {
   "cell_type": "code",
   "execution_count": 58,
   "id": "ffffa86e",
   "metadata": {},
   "outputs": [
    {
     "data": {
      "text/html": [
       "<style type=\"text/css\">\n",
       "</style>\n",
       "<table id=\"T_dac75\">\n",
       "  <thead>\n",
       "    <tr>\n",
       "      <th class=\"blank level0\" >&nbsp;</th>\n",
       "      <th id=\"T_dac75_level0_col0\" class=\"col_heading level0 col0\" >category</th>\n",
       "      <th id=\"T_dac75_level0_col1\" class=\"col_heading level0 col1\" >message</th>\n",
       "    </tr>\n",
       "  </thead>\n",
       "  <tbody>\n",
       "    <tr>\n",
       "      <th id=\"T_dac75_level0_row0\" class=\"row_heading level0 row0\" >0</th>\n",
       "      <td id=\"T_dac75_row0_col0\" class=\"data row0 col0\" >ham</td>\n",
       "      <td id=\"T_dac75_row0_col1\" class=\"data row0 col1\" >Go until jurong point, crazy.. Available only in bugis n great world la e buffet... Cine there got amore wat...</td>\n",
       "    </tr>\n",
       "    <tr>\n",
       "      <th id=\"T_dac75_level0_row1\" class=\"row_heading level0 row1\" >1</th>\n",
       "      <td id=\"T_dac75_row1_col0\" class=\"data row1 col0\" >ham</td>\n",
       "      <td id=\"T_dac75_row1_col1\" class=\"data row1 col1\" >Ok lar... Joking wif u oni...</td>\n",
       "    </tr>\n",
       "    <tr>\n",
       "      <th id=\"T_dac75_level0_row2\" class=\"row_heading level0 row2\" >2</th>\n",
       "      <td id=\"T_dac75_row2_col0\" class=\"data row2 col0\" >spam</td>\n",
       "      <td id=\"T_dac75_row2_col1\" class=\"data row2 col1\" >Free entry in 2 a wkly comp to win FA Cup final tkts 21st May 2005. Text FA to 87121 to receive entry question(std txt rate)T&C's apply 08452810075over18's</td>\n",
       "    </tr>\n",
       "    <tr>\n",
       "      <th id=\"T_dac75_level0_row3\" class=\"row_heading level0 row3\" >3</th>\n",
       "      <td id=\"T_dac75_row3_col0\" class=\"data row3 col0\" >ham</td>\n",
       "      <td id=\"T_dac75_row3_col1\" class=\"data row3 col1\" >U dun say so early hor... U c already then say...</td>\n",
       "    </tr>\n",
       "    <tr>\n",
       "      <th id=\"T_dac75_level0_row4\" class=\"row_heading level0 row4\" >4</th>\n",
       "      <td id=\"T_dac75_row4_col0\" class=\"data row4 col0\" >ham</td>\n",
       "      <td id=\"T_dac75_row4_col1\" class=\"data row4 col1\" >Nah I don't think he goes to usf, he lives around here though</td>\n",
       "    </tr>\n",
       "    <tr>\n",
       "      <th id=\"T_dac75_level0_row5\" class=\"row_heading level0 row5\" >5</th>\n",
       "      <td id=\"T_dac75_row5_col0\" class=\"data row5 col0\" >spam</td>\n",
       "      <td id=\"T_dac75_row5_col1\" class=\"data row5 col1\" >FreeMsg Hey there darling it's been 3 week's now and no word back! I'd like some fun you up for it still? Tb ok! XxX std chgs to send, å£1.50 to rcv</td>\n",
       "    </tr>\n",
       "    <tr>\n",
       "      <th id=\"T_dac75_level0_row6\" class=\"row_heading level0 row6\" >6</th>\n",
       "      <td id=\"T_dac75_row6_col0\" class=\"data row6 col0\" >ham</td>\n",
       "      <td id=\"T_dac75_row6_col1\" class=\"data row6 col1\" >Even my brother is not like to speak with me. They treat me like aids patent.</td>\n",
       "    </tr>\n",
       "    <tr>\n",
       "      <th id=\"T_dac75_level0_row7\" class=\"row_heading level0 row7\" >7</th>\n",
       "      <td id=\"T_dac75_row7_col0\" class=\"data row7 col0\" >ham</td>\n",
       "      <td id=\"T_dac75_row7_col1\" class=\"data row7 col1\" >As per your request 'Melle Melle (Oru Minnaminunginte Nurungu Vettam)' has been set as your callertune for all Callers. Press *9 to copy your friends Callertune</td>\n",
       "    </tr>\n",
       "    <tr>\n",
       "      <th id=\"T_dac75_level0_row8\" class=\"row_heading level0 row8\" >8</th>\n",
       "      <td id=\"T_dac75_row8_col0\" class=\"data row8 col0\" >spam</td>\n",
       "      <td id=\"T_dac75_row8_col1\" class=\"data row8 col1\" >WINNER!! As a valued network customer you have been selected to receivea å£900 prize reward! To claim call 09061701461. Claim code KL341. Valid 12 hours only.</td>\n",
       "    </tr>\n",
       "    <tr>\n",
       "      <th id=\"T_dac75_level0_row9\" class=\"row_heading level0 row9\" >9</th>\n",
       "      <td id=\"T_dac75_row9_col0\" class=\"data row9 col0\" >spam</td>\n",
       "      <td id=\"T_dac75_row9_col1\" class=\"data row9 col1\" >Had your mobile 11 months or more? U R entitled to Update to the latest colour mobiles with camera for Free! Call The Mobile Update Co FREE on 08002986030</td>\n",
       "    </tr>\n",
       "  </tbody>\n",
       "</table>\n"
      ],
      "text/plain": [
       "<pandas.io.formats.style.Styler at 0x1d12cd1cb20>"
      ]
     },
     "execution_count": 58,
     "metadata": {},
     "output_type": "execute_result"
    }
   ],
   "source": [
    "data.head(10).style.background_gradient(cmap='Reds')"
   ]
  },
  {
   "cell_type": "code",
   "execution_count": 59,
   "id": "1de7b4cc",
   "metadata": {},
   "outputs": [],
   "source": [
    "data.loc[data[\"category\"]==\"spam\",\"category\"]=0\n",
    "data.loc[data[\"category\"]==\"ham\",\"category\"]=1"
   ]
  },
  {
   "cell_type": "code",
   "execution_count": 60,
   "id": "560f3e4d",
   "metadata": {},
   "outputs": [
    {
     "data": {
      "text/html": [
       "<style type=\"text/css\">\n",
       "</style>\n",
       "<table id=\"T_60511\">\n",
       "  <thead>\n",
       "    <tr>\n",
       "      <th class=\"blank level0\" >&nbsp;</th>\n",
       "      <th id=\"T_60511_level0_col0\" class=\"col_heading level0 col0\" >category</th>\n",
       "      <th id=\"T_60511_level0_col1\" class=\"col_heading level0 col1\" >message</th>\n",
       "    </tr>\n",
       "  </thead>\n",
       "  <tbody>\n",
       "    <tr>\n",
       "      <th id=\"T_60511_level0_row0\" class=\"row_heading level0 row0\" >0</th>\n",
       "      <td id=\"T_60511_row0_col0\" class=\"data row0 col0\" >1</td>\n",
       "      <td id=\"T_60511_row0_col1\" class=\"data row0 col1\" >Go until jurong point, crazy.. Available only in bugis n great world la e buffet... Cine there got amore wat...</td>\n",
       "    </tr>\n",
       "    <tr>\n",
       "      <th id=\"T_60511_level0_row1\" class=\"row_heading level0 row1\" >1</th>\n",
       "      <td id=\"T_60511_row1_col0\" class=\"data row1 col0\" >1</td>\n",
       "      <td id=\"T_60511_row1_col1\" class=\"data row1 col1\" >Ok lar... Joking wif u oni...</td>\n",
       "    </tr>\n",
       "    <tr>\n",
       "      <th id=\"T_60511_level0_row2\" class=\"row_heading level0 row2\" >2</th>\n",
       "      <td id=\"T_60511_row2_col0\" class=\"data row2 col0\" >0</td>\n",
       "      <td id=\"T_60511_row2_col1\" class=\"data row2 col1\" >Free entry in 2 a wkly comp to win FA Cup final tkts 21st May 2005. Text FA to 87121 to receive entry question(std txt rate)T&C's apply 08452810075over18's</td>\n",
       "    </tr>\n",
       "    <tr>\n",
       "      <th id=\"T_60511_level0_row3\" class=\"row_heading level0 row3\" >3</th>\n",
       "      <td id=\"T_60511_row3_col0\" class=\"data row3 col0\" >1</td>\n",
       "      <td id=\"T_60511_row3_col1\" class=\"data row3 col1\" >U dun say so early hor... U c already then say...</td>\n",
       "    </tr>\n",
       "    <tr>\n",
       "      <th id=\"T_60511_level0_row4\" class=\"row_heading level0 row4\" >4</th>\n",
       "      <td id=\"T_60511_row4_col0\" class=\"data row4 col0\" >1</td>\n",
       "      <td id=\"T_60511_row4_col1\" class=\"data row4 col1\" >Nah I don't think he goes to usf, he lives around here though</td>\n",
       "    </tr>\n",
       "    <tr>\n",
       "      <th id=\"T_60511_level0_row5\" class=\"row_heading level0 row5\" >5</th>\n",
       "      <td id=\"T_60511_row5_col0\" class=\"data row5 col0\" >0</td>\n",
       "      <td id=\"T_60511_row5_col1\" class=\"data row5 col1\" >FreeMsg Hey there darling it's been 3 week's now and no word back! I'd like some fun you up for it still? Tb ok! XxX std chgs to send, å£1.50 to rcv</td>\n",
       "    </tr>\n",
       "    <tr>\n",
       "      <th id=\"T_60511_level0_row6\" class=\"row_heading level0 row6\" >6</th>\n",
       "      <td id=\"T_60511_row6_col0\" class=\"data row6 col0\" >1</td>\n",
       "      <td id=\"T_60511_row6_col1\" class=\"data row6 col1\" >Even my brother is not like to speak with me. They treat me like aids patent.</td>\n",
       "    </tr>\n",
       "    <tr>\n",
       "      <th id=\"T_60511_level0_row7\" class=\"row_heading level0 row7\" >7</th>\n",
       "      <td id=\"T_60511_row7_col0\" class=\"data row7 col0\" >1</td>\n",
       "      <td id=\"T_60511_row7_col1\" class=\"data row7 col1\" >As per your request 'Melle Melle (Oru Minnaminunginte Nurungu Vettam)' has been set as your callertune for all Callers. Press *9 to copy your friends Callertune</td>\n",
       "    </tr>\n",
       "    <tr>\n",
       "      <th id=\"T_60511_level0_row8\" class=\"row_heading level0 row8\" >8</th>\n",
       "      <td id=\"T_60511_row8_col0\" class=\"data row8 col0\" >0</td>\n",
       "      <td id=\"T_60511_row8_col1\" class=\"data row8 col1\" >WINNER!! As a valued network customer you have been selected to receivea å£900 prize reward! To claim call 09061701461. Claim code KL341. Valid 12 hours only.</td>\n",
       "    </tr>\n",
       "    <tr>\n",
       "      <th id=\"T_60511_level0_row9\" class=\"row_heading level0 row9\" >9</th>\n",
       "      <td id=\"T_60511_row9_col0\" class=\"data row9 col0\" >0</td>\n",
       "      <td id=\"T_60511_row9_col1\" class=\"data row9 col1\" >Had your mobile 11 months or more? U R entitled to Update to the latest colour mobiles with camera for Free! Call The Mobile Update Co FREE on 08002986030</td>\n",
       "    </tr>\n",
       "  </tbody>\n",
       "</table>\n"
      ],
      "text/plain": [
       "<pandas.io.formats.style.Styler at 0x1d12cd1dae0>"
      ]
     },
     "execution_count": 60,
     "metadata": {},
     "output_type": "execute_result"
    }
   ],
   "source": [
    "data.head(10).style.background_gradient(cmap='Reds')"
   ]
  },
  {
   "cell_type": "code",
   "execution_count": 61,
   "id": "1ce2a086",
   "metadata": {},
   "outputs": [
    {
     "data": {
      "text/plain": [
       "<Axes: xlabel='category'>"
      ]
     },
     "execution_count": 61,
     "metadata": {},
     "output_type": "execute_result"
    },
    {
     "data": {
      "image/png": "[encoded data removed]",
      "text/plain": [
       "<Figure size 640x480 with 1 Axes>"
      ]
     },
     "metadata": {},
     "output_type": "display_data"
    }
   ],
   "source": [
    "count=data.groupby(by=['category']).count()\n",
    "count.plot(kind='bar')"
   ]
  },
  {
   "cell_type": "code",
   "execution_count": 62,
   "id": "abc707a8",
   "metadata": {},
   "outputs": [],
   "source": [
    "corpus= []\n",
    "ps= PorterStemmer()\n",
    "\n",
    "for i in range(0,data.shape[0]):\n",
    "    message = re.sub(pattern='[^a-zA-Z]' , repl=' ' , string = data.message[i])\n",
    "    message = message.lower()\n",
    "    words = message.split()\n",
    "    words = [word for word in words if word not in set(stopwords.words('english'))]\n",
    "    words = [ps.stem(word) for word in words]\n",
    "    message = ' '.join(words)\n",
    "    corpus.append(message)\n",
    "    "
   ]
  },
  {
   "cell_type": "code",
   "execution_count": 63,
   "id": "8f755b47",
   "metadata": {},
   "outputs": [],
   "source": [
    "def clean_text(X):\n",
    "    message = re.sub(pattern='[^a-zA-Z]' , repl=' ' , string =x)\n",
    "    message = message.lower()\n",
    "    words = message.split()\n",
    "    words = [word for word in words if word not in set(stopwords.words('english'))]\n",
    "    words = [ps.stem(word) for word in words]\n",
    "    message = ' '.join(words)\n",
    "    return message \n",
    "    "
   ]
  },
  {
   "cell_type": "code",
   "execution_count": 64,
   "id": "762dc77b",
   "metadata": {},
   "outputs": [],
   "source": [
    "from sklearn.feature_extraction.text import CountVectorizer\n",
    "cv= CountVectorizer(max_features=2500)\n",
    "X = cv.fit_transform(corpus).toarray()"
   ]
  },
  {
   "cell_type": "code",
   "execution_count": 65,
   "id": "933f61f0",
   "metadata": {},
   "outputs": [
    {
     "data": {
      "text/plain": [
       "array([[0, 0, 0, ..., 0, 0, 0],\n",
       "       [0, 0, 0, ..., 0, 0, 0],\n",
       "       [0, 0, 0, ..., 0, 0, 0],\n",
       "       ...,\n",
       "       [0, 0, 0, ..., 0, 0, 0],\n",
       "       [0, 0, 0, ..., 0, 0, 0],\n",
       "       [0, 0, 0, ..., 0, 0, 0]], dtype=int64)"
      ]
     },
     "execution_count": 65,
     "metadata": {},
     "output_type": "execute_result"
    }
   ],
   "source": [
    "X"
   ]
  },
  {
   "cell_type": "code",
   "execution_count": 66,
   "id": "5057e8b8",
   "metadata": {},
   "outputs": [],
   "source": [
    "y = pd.get_dummies(data['category'])\n",
    "y = y.iloc[:,1].values"
   ]
  },
  {
   "cell_type": "code",
   "execution_count": 67,
   "id": "80f9d158",
   "metadata": {},
   "outputs": [
    {
     "data": {
      "text/plain": [
       "array([1, 1, 0, ..., 1, 1, 1], dtype=uint8)"
      ]
     },
     "execution_count": 67,
     "metadata": {},
     "output_type": "execute_result"
    }
   ],
   "source": [
    "y"
   ]
  },
  {
   "cell_type": "code",
   "execution_count": 68,
   "id": "2e0fc096",
   "metadata": {},
   "outputs": [],
   "source": [
    "from sklearn.model_selection import train_test_split \n",
    "from sklearn.metrics import accuracy_score,mean_absolute_error,roc_auc_score,confusion_matrix\n",
    "import scikitplot as skplt"
   ]
  },
  {
   "cell_type": "code",
   "execution_count": 69,
   "id": "5fc0b553",
   "metadata": {},
   "outputs": [],
   "source": [
    "X_train,X_test,Y_train,Y_test=train_test_split(X,y,test_size=0.2 , random_state=10)\n"
   ]
  },
  {
   "cell_type": "code",
   "execution_count": 70,
   "id": "47a35b8f",
   "metadata": {},
   "outputs": [
    {
     "name": "stdout",
     "output_type": "stream",
     "text": [
      "(4457, 2500)\n",
      "(1115, 2500)\n",
      "(4457,)\n",
      "(1115,)\n"
     ]
    }
   ],
   "source": [
    "print(X_train.shape)\n",
    "print(X_test.shape)\n",
    "print(Y_train.shape)\n",
    "print(Y_test.shape)"
   ]
  },
  {
   "cell_type": "code",
   "execution_count": 71,
   "id": "ef26e4e6",
   "metadata": {},
   "outputs": [],
   "source": [
    "from sklearn.linear_model import LogisticRegression"
   ]
  },
  {
   "cell_type": "code",
   "execution_count": 72,
   "id": "d82c2724",
   "metadata": {},
   "outputs": [],
   "source": [
    "LG = LogisticRegression()\n",
    "LG = LG.fit(X_train,Y_train)"
   ]
  },
  {
   "cell_type": "code",
   "execution_count": 73,
   "id": "2fa91bab",
   "metadata": {},
   "outputs": [
    {
     "name": "stdout",
     "output_type": "stream",
     "text": [
      "The accuracy is 98.02690582959642\n",
      "The mean_absolute_error is  0.47533632286995514\n"
     ]
    }
   ],
   "source": [
    "y_pred = LG.predict(X_test)\n",
    "print(\"The accuracy is\",accuracy_score(y_pred,Y_test)*100)\n",
    "print(\"The mean_absolute_error is \",mean_absolute_error(Y_test,y_pred))"
   ]
  },
  {
   "cell_type": "code",
   "execution_count": 74,
   "id": "c69a1159",
   "metadata": {},
   "outputs": [
    {
     "data": {
      "text/plain": [
       "array([[130,  20],\n",
       "       [  2, 963]], dtype=int64)"
      ]
     },
     "execution_count": 74,
     "metadata": {},
     "output_type": "execute_result"
    }
   ],
   "source": [
    "confusion_matrix(Y_test,y_pred)"
   ]
  },
  {
   "cell_type": "code",
   "execution_count": 75,
   "id": "9854ac5f",
   "metadata": {},
   "outputs": [
    {
     "data": {
      "text/plain": [
       "<Axes: >"
      ]
     },
     "execution_count": 75,
     "metadata": {},
     "output_type": "execute_result"
    },
    {
     "data": {
      "image/png": "[encoded data removed]",
      "text/plain": [
       "<Figure size 640x480 with 2 Axes>"
      ]
     },
     "metadata": {},
     "output_type": "display_data"
    }
   ],
   "source": [
    "sns.heatmap(confusion_matrix(Y_test,y_pred),annot=True,cmap='Reds')"
   ]
  },
  {
   "cell_type": "code",
   "execution_count": 76,
   "id": "d9801b79",
   "metadata": {},
   "outputs": [
    {
     "name": "stdout",
     "output_type": "stream",
     "text": [
      "0.9949706390328152\n"
     ]
    },
    {
     "data": {
      "image/png": "[encoded data removed]",
      "text/plain": [
       "<Figure size 640x480 with 1 Axes>"
      ]
     },
     "metadata": {},
     "output_type": "display_data"
    }
   ],
   "source": [
    "Y_pred_prob=LG.predict_proba(X_test)\n",
    "class_1_prob=list()\n",
    "for i in Y_pred_prob:\n",
    "    class_1_prob.append(i[1])\n",
    "print(roc_auc_score(Y_test,class_1_prob))\n",
    "skplt.metrics.plot_roc_curve(Y_test,Y_pred_prob,curves=['each_class'])\n",
    "plt.show()"
   ]
  },
  {
   "cell_type": "code",
   "execution_count": 77,
   "id": "8a319c0a",
   "metadata": {},
   "outputs": [
    {
     "data": {
      "image/png": "[encoded data removed]",
      "text/plain": [
       "<Figure size 640x480 with 1 Axes>"
      ]
     },
     "metadata": {},
     "output_type": "display_data"
    }
   ],
   "source": [
    "skplt.estimators.plot_learning_curve(LG,X_train,Y_train)\n",
    "plt.show()"
   ]
  },
  {
   "cell_type": "code",
   "execution_count": null,
   "id": "98d8f40d",
   "metadata": {},
   "outputs": [],
   "source": []
  },
  {
   "cell_type": "code",
   "execution_count": null,
   "id": "439c0876",
   "metadata": {},
   "outputs": [],
   "source": []
  },
  {
   "cell_type": "code",
   "execution_count": null,
   "id": "cd944529",
   "metadata": {},
   "outputs": [],
   "source": []
  },
  {
   "cell_type": "code",
   "execution_count": null,
   "id": "b6bd2145",
   "metadata": {
    "collapsed": true
   },
   "outputs": [],
   "source": []
  }
 ],
 "metadata": {
  "kernelspec": {
   "display_name": "Python 3 (ipykernel)",
   "language": "python",
   "name": "python3"
  },
  "language_info": {
   "codemirror_mode": {
    "name": "ipython",
    "version": 3
   },
   "file_extension": ".py",
   "mimetype": "text/x-python",
   "name": "python",
   "nbconvert_exporter": "python",
   "pygments_lexer": "ipython3",
   "version": "3.10.9"
  }
 },
 "nbformat": 4,
 "nbformat_minor": 5
}
